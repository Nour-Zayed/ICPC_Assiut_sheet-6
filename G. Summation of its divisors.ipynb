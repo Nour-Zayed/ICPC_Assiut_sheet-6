{
 "cells": [
  {
   "cell_type": "code",
   "execution_count": 7,
   "id": "672d7c20-373a-41c6-b90d-727914ff6681",
   "metadata": {},
   "outputs": [
    {
     "name": "stdin",
     "output_type": "stream",
     "text": [
      " 9\n"
     ]
    },
    {
     "name": "stdout",
     "output_type": "stream",
     "text": [
      "13\n"
     ]
    }
   ],
   "source": [
    "import math\n",
    "\n",
    "x = int(input())\n",
    "result = 0\n",
    "\n",
    "for i in range(1, int(math.sqrt(x)) + 1):\n",
    "    if x % i == 0:  \n",
    "        result= i+result\n",
    "        if i != x // i:  \n",
    "            result += x // i\n",
    "\n",
    "print(result)\n"
   ]
  },
  {
   "cell_type": "code",
   "execution_count": null,
   "id": "d2592ff7-ae37-4c79-8d7d-62950086edf3",
   "metadata": {},
   "outputs": [],
   "source": []
  }
 ],
 "metadata": {
  "kernelspec": {
   "display_name": "Python 3 (ipykernel)",
   "language": "python",
   "name": "python3"
  },
  "language_info": {
   "codemirror_mode": {
    "name": "ipython",
    "version": 3
   },
   "file_extension": ".py",
   "mimetype": "text/x-python",
   "name": "python",
   "nbconvert_exporter": "python",
   "pygments_lexer": "ipython3",
   "version": "3.11.5"
  }
 },
 "nbformat": 4,
 "nbformat_minor": 5
}
