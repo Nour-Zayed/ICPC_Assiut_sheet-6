{
 "cells": [
  {
   "cell_type": "code",
   "execution_count": 2,
   "id": "0594da73-6d48-467a-978f-e3ff5c34d85e",
   "metadata": {},
   "outputs": [
    {
     "name": "stdin",
     "output_type": "stream",
     "text": [
      " 10\n"
     ]
    },
    {
     "name": "stdout",
     "output_type": "stream",
     "text": [
      "10009\n",
      "99990\n"
     ]
    }
   ],
   "source": [
    "N=int(input())\n",
    "\n",
    "n1=N + 9999\n",
    "n2=N * 9999\n",
    "\n",
    "print(n1)\n",
    "print(n2)\n",
    "\n"
   ]
  },
  {
   "cell_type": "code",
   "execution_count": null,
   "id": "fe243491-2ed1-4eb7-bd7f-5a98e136b2f7",
   "metadata": {},
   "outputs": [],
   "source": []
  }
 ],
 "metadata": {
  "kernelspec": {
   "display_name": "Python 3 (ipykernel)",
   "language": "python",
   "name": "python3"
  },
  "language_info": {
   "codemirror_mode": {
    "name": "ipython",
    "version": 3
   },
   "file_extension": ".py",
   "mimetype": "text/x-python",
   "name": "python",
   "nbconvert_exporter": "python",
   "pygments_lexer": "ipython3",
   "version": "3.11.5"
  }
 },
 "nbformat": 4,
 "nbformat_minor": 5
}
