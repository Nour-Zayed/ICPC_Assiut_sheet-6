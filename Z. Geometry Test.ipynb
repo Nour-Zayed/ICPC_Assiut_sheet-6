{
 "cells": [
  {
   "cell_type": "code",
   "execution_count": 3,
   "id": "89c6d409-e405-4c00-bbc0-3332c34319db",
   "metadata": {},
   "outputs": [
    {
     "name": "stdin",
     "output_type": "stream",
     "text": [
      " 5 8\n"
     ]
    },
    {
     "name": "stdout",
     "output_type": "stream",
     "text": [
      "Complex\n"
     ]
    }
   ],
   "source": [
    "import math\n",
    "\n",
    "R, S = map(int, input().split())\n",
    "\n",
    "if S * math.sqrt(2) <= 2 * R:\n",
    "    print(\"Circle\")\n",
    "elif 2 * R <= S:\n",
    "    print(\"Square\")\n",
    "else:\n",
    "    print(\"Complex\")\n"
   ]
  },
  {
   "cell_type": "code",
   "execution_count": null,
   "id": "6690d774-7d6f-4f55-a231-e32569555d00",
   "metadata": {},
   "outputs": [],
   "source": []
  }
 ],
 "metadata": {
  "kernelspec": {
   "display_name": "Python 3 (ipykernel)",
   "language": "python",
   "name": "python3"
  },
  "language_info": {
   "codemirror_mode": {
    "name": "ipython",
    "version": 3
   },
   "file_extension": ".py",
   "mimetype": "text/x-python",
   "name": "python",
   "nbconvert_exporter": "python",
   "pygments_lexer": "ipython3",
   "version": "3.11.5"
  }
 },
 "nbformat": 4,
 "nbformat_minor": 5
}
