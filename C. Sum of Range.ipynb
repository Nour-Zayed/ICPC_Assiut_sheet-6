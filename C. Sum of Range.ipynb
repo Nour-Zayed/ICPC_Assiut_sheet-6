{
 "cells": [
  {
   "cell_type": "code",
   "execution_count": 22,
   "id": "2df71702-75ff-4e54-899d-4dce5ff41f4c",
   "metadata": {},
   "outputs": [
    {
     "name": "stdin",
     "output_type": "stream",
     "text": [
      " 7 1\n"
     ]
    },
    {
     "name": "stdout",
     "output_type": "stream",
     "text": [
      "28\n",
      "12\n",
      "16\n"
     ]
    }
   ],
   "source": [
    "x, y = map(int, input().split())\n",
    "\n",
    "if x > y:\n",
    "    total_sum = (x * (x + 1) // 2) - ((y - 1) * y // 2)\n",
    "else:\n",
    "    total_sum = (y * (y + 1) // 2) - ((x - 1) * x // 2)\n",
    "print(total_sum)\n",
    "\n",
    "start = min(x, y)\n",
    "end = max(x, y)\n",
    "if start % 2 != 0:\n",
    "    start += 1\n",
    "if end % 2 != 0:\n",
    "    end -= 1\n",
    "even_sum = ((end - start) // 2 + 1) * (start + end) // 2\n",
    "print(even_sum)\n",
    "\n",
    "start = min(x, y)\n",
    "end = max(x, y)\n",
    "if start % 2 == 0:\n",
    "    start += 1\n",
    "if end % 2 == 0:\n",
    "    end -= 1\n",
    "odd_sum = ((end - start) // 2 + 1) * (start + end) // 2\n",
    "print(odd_sum)\n"
   ]
  },
  {
   "cell_type": "code",
   "execution_count": null,
   "id": "99deea9d-41a1-4a0d-af8e-b32d03baff6e",
   "metadata": {},
   "outputs": [],
   "source": []
  },
  {
   "cell_type": "code",
   "execution_count": null,
   "id": "ee3d21eb-0d7d-46a9-a9c6-0263863226f5",
   "metadata": {},
   "outputs": [],
   "source": []
  }
 ],
 "metadata": {
  "kernelspec": {
   "display_name": "Python 3 (ipykernel)",
   "language": "python",
   "name": "python3"
  },
  "language_info": {
   "codemirror_mode": {
    "name": "ipython",
    "version": 3
   },
   "file_extension": ".py",
   "mimetype": "text/x-python",
   "name": "python",
   "nbconvert_exporter": "python",
   "pygments_lexer": "ipython3",
   "version": "3.11.5"
  }
 },
 "nbformat": 4,
 "nbformat_minor": 5
}
