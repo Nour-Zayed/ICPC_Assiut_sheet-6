{
 "cells": [
  {
   "cell_type": "code",
   "execution_count": 7,
   "id": "352adc70-f2d0-4f8a-8c5f-d572b781e3c3",
   "metadata": {},
   "outputs": [
    {
     "name": "stdin",
     "output_type": "stream",
     "text": [
      " 5 3 1\n"
     ]
    },
    {
     "name": "stdout",
     "output_type": "stream",
     "text": [
      "5\n"
     ]
    }
   ],
   "source": [
    "a,b,q=map(int,input().split())\n",
    "\n",
    "if q % 3 == 1:\n",
    "    print(a)\n",
    "elif q % 3 == 2:\n",
    "    print(b)\n",
    "else:\n",
    "    print(a^b)\n",
    "    \n",
    "\n"
   ]
  },
  {
   "cell_type": "code",
   "execution_count": 6,
   "id": "4c431cc7-d2f8-4b4b-bf2a-2d0797d0f933",
   "metadata": {},
   "outputs": [
    {
     "name": "stdin",
     "output_type": "stream",
     "text": [
      " 5 3 3\n"
     ]
    },
    {
     "name": "stdout",
     "output_type": "stream",
     "text": [
      "6\n"
     ]
    }
   ],
   "source": [
    "a, b, q = map(int, input().split())\n",
    "\n",
    "if q % 3 == 1:\n",
    "    print(a)\n",
    "elif q % 3 == 2:\n",
    "    print(b)\n",
    "else:\n",
    "    print(a ^ b)\n"
   ]
  },
  {
   "cell_type": "code",
   "execution_count": null,
   "id": "4a55c4a1-b5d7-4749-9af6-c2229f8482a6",
   "metadata": {},
   "outputs": [],
   "source": []
  }
 ],
 "metadata": {
  "kernelspec": {
   "display_name": "Python 3 (ipykernel)",
   "language": "python",
   "name": "python3"
  },
  "language_info": {
   "codemirror_mode": {
    "name": "ipython",
    "version": 3
   },
   "file_extension": ".py",
   "mimetype": "text/x-python",
   "name": "python",
   "nbconvert_exporter": "python",
   "pygments_lexer": "ipython3",
   "version": "3.11.5"
  }
 },
 "nbformat": 4,
 "nbformat_minor": 5
}
