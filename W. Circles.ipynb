{
 "cells": [
  {
   "cell_type": "code",
   "execution_count": 2,
   "id": "9b8dd8d3-aa76-4667-80a9-298d29f351c8",
   "metadata": {},
   "outputs": [
    {
     "name": "stdin",
     "output_type": "stream",
     "text": [
      " 0 0 6 0\n",
      " -8 7 -12 2\n"
     ]
    },
    {
     "name": "stdout",
     "output_type": "stream",
     "text": [
      "NO\n"
     ]
    }
   ],
   "source": [
    "import math\n",
    "\n",
    "X1, Y1, X2, Y2 = map(int, input().split())\n",
    "X3, Y3, X4, Y4 = map(int, input().split())\n",
    "\n",
    "C1_x, C1_y = (X1 + X2) / 2, (Y1 + Y2) / 2\n",
    "C2_x, C2_y = (X3 + X4) / 2, (Y3 + Y4) / 2\n",
    "\n",
    "R1 = math.sqrt((X2 - X1) ** 2 + (Y2 - Y1) ** 2) / 2\n",
    "R2 = math.sqrt((X4 - X3) ** 2 + (Y4 - Y3) ** 2) / 2\n",
    "\n",
    "D = math.sqrt((C2_x - C1_x) ** 2 + (C2_y - C1_y) ** 2)\n",
    "\n",
    "if D <= R1 + R2:\n",
    "    print(\"YES\")\n",
    "else:\n",
    "    print(\"NO\")\n"
   ]
  },
  {
   "cell_type": "code",
   "execution_count": null,
   "id": "e6cf1007-88cc-45dd-a1b6-cce3987c50c6",
   "metadata": {},
   "outputs": [],
   "source": []
  }
 ],
 "metadata": {
  "kernelspec": {
   "display_name": "Python 3 (ipykernel)",
   "language": "python",
   "name": "python3"
  },
  "language_info": {
   "codemirror_mode": {
    "name": "ipython",
    "version": 3
   },
   "file_extension": ".py",
   "mimetype": "text/x-python",
   "name": "python",
   "nbconvert_exporter": "python",
   "pygments_lexer": "ipython3",
   "version": "3.11.5"
  }
 },
 "nbformat": 4,
 "nbformat_minor": 5
}
