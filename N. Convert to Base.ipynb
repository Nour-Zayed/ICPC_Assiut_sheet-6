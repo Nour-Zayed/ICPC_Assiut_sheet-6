{
 "cells": [
  {
   "cell_type": "code",
   "execution_count": 10,
   "id": "cf0ea24c-95e3-438a-aa35-3c72712b55bd",
   "metadata": {},
   "outputs": [
    {
     "name": "stdin",
     "output_type": "stream",
     "text": [
      " 2\n",
      " 5 2\n"
     ]
    },
    {
     "name": "stdout",
     "output_type": "stream",
     "text": [
      "101\n"
     ]
    }
   ],
   "source": [
    "t = int(input().strip())\n",
    "n_str, x = input().split()\n",
    "x = int(x)\n",
    "\n",
    "if t == 1:\n",
    "    decimal_value = 0\n",
    "    for char in n_str:\n",
    "        if '0' <= char <= '9':\n",
    "            value = ord(char) - ord('0')\n",
    "        else:\n",
    "            value = ord(char) - ord('A') + 10\n",
    "        decimal_value = decimal_value * x + value\n",
    "    print(decimal_value)\n",
    "\n",
    "elif t == 2:\n",
    "    n = int(n_str)  \n",
    "    if n == 0:\n",
    "        print(\"0\")\n",
    "    else:\n",
    "        base_x_value = \"\"\n",
    "        while n > 0:\n",
    "            remainder = n % x\n",
    "            if remainder < 10:\n",
    "                base_x_value = chr(remainder + ord('0')) + base_x_value\n",
    "            else:\n",
    "                base_x_value = chr(remainder - 10 + ord('A')) + base_x_value\n",
    "            n //= x\n",
    "        print(base_x_value)\n"
   ]
  },
  {
   "cell_type": "code",
   "execution_count": null,
   "id": "84d83c08-9ae4-4cc6-b280-511845e08a22",
   "metadata": {},
   "outputs": [],
   "source": []
  }
 ],
 "metadata": {
  "kernelspec": {
   "display_name": "Python 3 (ipykernel)",
   "language": "python",
   "name": "python3"
  },
  "language_info": {
   "codemirror_mode": {
    "name": "ipython",
    "version": 3
   },
   "file_extension": ".py",
   "mimetype": "text/x-python",
   "name": "python",
   "nbconvert_exporter": "python",
   "pygments_lexer": "ipython3",
   "version": "3.11.5"
  }
 },
 "nbformat": 4,
 "nbformat_minor": 5
}
