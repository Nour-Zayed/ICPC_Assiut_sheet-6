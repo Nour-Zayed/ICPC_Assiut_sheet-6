{
 "cells": [
  {
   "cell_type": "code",
   "execution_count": null,
   "id": "aa2cb663-4f38-498f-8734-fc3afceb24a4",
   "metadata": {},
   "outputs": [],
   "source": [
    "L,R,M=map(int,input().split())\n",
    "arr\n",
    "for i in range (L,R+1):\n",
    "    prod=i\n"
   ]
  },
  {
   "cell_type": "code",
   "execution_count": 4,
   "id": "a581197f-6e56-48a9-93f4-3d74909a9e04",
   "metadata": {},
   "outputs": [
    {
     "name": "stdin",
     "output_type": "stream",
     "text": [
      " 1 20 10007\n"
     ]
    },
    {
     "name": "stdout",
     "output_type": "stream",
     "text": [
      "8707\n"
     ]
    }
   ],
   "source": [
    "L,R,M=map(int,input().split())\n",
    "\n",
    "product = 1\n",
    "for i in range(L, R + 1):\n",
    "        product = (product * i) % M\n",
    "       \n",
    "print(product)            "
   ]
  },
  {
   "cell_type": "code",
   "execution_count": null,
   "id": "1c52b8bd-8fdb-4c95-86a4-b8a96a6d5867",
   "metadata": {},
   "outputs": [],
   "source": []
  }
 ],
 "metadata": {
  "kernelspec": {
   "display_name": "Python 3 (ipykernel)",
   "language": "python",
   "name": "python3"
  },
  "language_info": {
   "codemirror_mode": {
    "name": "ipython",
    "version": 3
   },
   "file_extension": ".py",
   "mimetype": "text/x-python",
   "name": "python",
   "nbconvert_exporter": "python",
   "pygments_lexer": "ipython3",
   "version": "3.11.5"
  }
 },
 "nbformat": 4,
 "nbformat_minor": 5
}
