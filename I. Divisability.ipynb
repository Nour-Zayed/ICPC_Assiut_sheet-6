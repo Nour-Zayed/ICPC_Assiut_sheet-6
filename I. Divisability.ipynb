{
 "cells": [
  {
   "cell_type": "code",
   "execution_count": 13,
   "id": "f659fe55-0038-4f40-ab2b-d0ecb639673c",
   "metadata": {},
   "outputs": [
    {
     "name": "stdin",
     "output_type": "stream",
     "text": [
      " 3 12 3\n"
     ]
    },
    {
     "name": "stdout",
     "output_type": "stream",
     "text": [
      "30\n"
     ]
    }
   ],
   "source": [
    "def sum_of_multiples(A, B, X):\n",
    "    if A > B:\n",
    "        A, B = B, A\n",
    "    \n",
    "    if A % X == 0:\n",
    "        first_multiple = A\n",
    "    else:\n",
    "        first_multiple = A + (X - (A % X))\n",
    "    \n",
    "    last_multiple = B - (B % X)\n",
    "    \n",
    "    if first_multiple > B or last_multiple < A:\n",
    "        return 0\n",
    "    \n",
    "    num_multiples = (last_multiple - first_multiple) // X + 1\n",
    "    \n",
    "    total_sum = (num_multiples * (first_multiple + last_multiple)) // 2\n",
    "    \n",
    "    return total_sum\n",
    "\n",
    "A, B, X = map(int, input().split())\n",
    "\n",
    "print(sum_of_multiples(A, B, X))\n"
   ]
  },
  {
   "cell_type": "code",
   "execution_count": null,
   "id": "cc4d2c9a-c496-4051-aabb-d4e4312cf118",
   "metadata": {},
   "outputs": [],
   "source": []
  }
 ],
 "metadata": {
  "kernelspec": {
   "display_name": "Python 3 (ipykernel)",
   "language": "python",
   "name": "python3"
  },
  "language_info": {
   "codemirror_mode": {
    "name": "ipython",
    "version": 3
   },
   "file_extension": ".py",
   "mimetype": "text/x-python",
   "name": "python",
   "nbconvert_exporter": "python",
   "pygments_lexer": "ipython3",
   "version": "3.11.5"
  }
 },
 "nbformat": 4,
 "nbformat_minor": 5
}
