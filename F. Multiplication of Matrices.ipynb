{
 "cells": [
  {
   "cell_type": "code",
   "execution_count": 1,
   "id": "1f30da98-f4ba-4ccf-8d21-2cdc56d00fbd",
   "metadata": {},
   "outputs": [
    {
     "name": "stdin",
     "output_type": "stream",
     "text": [
      " 2 2\n",
      " 1 2\n",
      " 2 1\n",
      " 2 2\n",
      " 3 4\n",
      " 4 3\n"
     ]
    },
    {
     "name": "stdout",
     "output_type": "stream",
     "text": [
      "11 10\n",
      "10 11\n"
     ]
    }
   ],
   "source": [
    "RA, CA = map(int, input().split())\n",
    "A = [list(map(int, input().split())) for _ in range(RA)]\n",
    "\n",
    "RB, CB = map(int, input().split())\n",
    "B = [list(map(int, input().split())) for _ in range(RB)]\n",
    "\n",
    "result = [[0] * CB for _ in range(RA)]\n",
    "\n",
    "for i in range(RA):\n",
    "    for j in range(CB):\n",
    "        for k in range(CA):\n",
    "            result[i][j] += A[i][k] * B[k][j]\n",
    "\n",
    "for row in result:\n",
    "    print(' '.join(map(str, row)))\n"
   ]
  },
  {
   "cell_type": "code",
   "execution_count": null,
   "id": "e0eafef8-e182-4664-a61a-bca30bf74a00",
   "metadata": {},
   "outputs": [],
   "source": []
  }
 ],
 "metadata": {
  "kernelspec": {
   "display_name": "Python 3 (ipykernel)",
   "language": "python",
   "name": "python3"
  },
  "language_info": {
   "codemirror_mode": {
    "name": "ipython",
    "version": 3
   },
   "file_extension": ".py",
   "mimetype": "text/x-python",
   "name": "python",
   "nbconvert_exporter": "python",
   "pygments_lexer": "ipython3",
   "version": "3.11.5"
  }
 },
 "nbformat": 4,
 "nbformat_minor": 5
}
