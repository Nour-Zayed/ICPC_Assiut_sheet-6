{
 "cells": [
  {
   "cell_type": "code",
   "execution_count": 11,
   "id": "66448a52-c23d-4da8-a2fb-9190f2c0e1e4",
   "metadata": {},
   "outputs": [
    {
     "name": "stdin",
     "output_type": "stream",
     "text": [
      " 1299721\n"
     ]
    },
    {
     "name": "stdout",
     "output_type": "stream",
     "text": [
      "(1299721^1)\n"
     ]
    }
   ],
   "source": [
    "def factorization_string(n):\n",
    "    i = 2\n",
    "    factors = {}\n",
    "    \n",
    "    while i * i <= n:\n",
    "        while n % i == 0:\n",
    "            factors[i] = factors.get(i, 0) + 1\n",
    "            n //= i\n",
    "        i += 1\n",
    "    \n",
    "    if n > 1:\n",
    "        factors[n] = factors.get(n, 0) + 1\n",
    "\n",
    "    return \"*\".join(f\"({prime}^{exp})\" for prime, exp in factors.items())\n",
    "\n",
    "number=int(input())\n",
    "print(factorization_string(number))\n"
   ]
  },
  {
   "cell_type": "code",
   "execution_count": null,
   "id": "2739e3df-5b20-44a3-b239-241ce3c14521",
   "metadata": {},
   "outputs": [],
   "source": []
  }
 ],
 "metadata": {
  "kernelspec": {
   "display_name": "Python 3 (ipykernel)",
   "language": "python",
   "name": "python3"
  },
  "language_info": {
   "codemirror_mode": {
    "name": "ipython",
    "version": 3
   },
   "file_extension": ".py",
   "mimetype": "text/x-python",
   "name": "python",
   "nbconvert_exporter": "python",
   "pygments_lexer": "ipython3",
   "version": "3.11.5"
  }
 },
 "nbformat": 4,
 "nbformat_minor": 5
}
