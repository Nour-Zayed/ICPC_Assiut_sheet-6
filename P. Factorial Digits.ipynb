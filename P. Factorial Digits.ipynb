{
 "cells": [
  {
   "cell_type": "code",
   "execution_count": 19,
   "id": "f96fc4b4-d09e-4575-9372-cd4c406a7ea1",
   "metadata": {},
   "outputs": [
    {
     "name": "stdin",
     "output_type": "stream",
     "text": [
      " 5\n"
     ]
    },
    {
     "name": "stdout",
     "output_type": "stream",
     "text": [
      "Number of digits of 5! is 3\n"
     ]
    }
   ],
   "source": [
    "import math\n",
    "\n",
    "x = int(input())\n",
    "\n",
    "if x == 0 or x == 1:\n",
    "    lenn = 1\n",
    "else:\n",
    "    digit_sum = sum(math.log10(i) for i in range(2, x + 1))\n",
    "    \n",
    "    lenn = math.floor(digit_sum) + 1\n",
    "\n",
    "print(f\"Number of digits of {x}! is {lenn}\")\n"
   ]
  },
  {
   "cell_type": "code",
   "execution_count": null,
   "id": "49f78a2a-780c-4bcc-b5aa-06eeb87adeab",
   "metadata": {},
   "outputs": [],
   "source": []
  }
 ],
 "metadata": {
  "kernelspec": {
   "display_name": "Python 3 (ipykernel)",
   "language": "python",
   "name": "python3"
  },
  "language_info": {
   "codemirror_mode": {
    "name": "ipython",
    "version": 3
   },
   "file_extension": ".py",
   "mimetype": "text/x-python",
   "name": "python",
   "nbconvert_exporter": "python",
   "pygments_lexer": "ipython3",
   "version": "3.11.5"
  }
 },
 "nbformat": 4,
 "nbformat_minor": 5
}
