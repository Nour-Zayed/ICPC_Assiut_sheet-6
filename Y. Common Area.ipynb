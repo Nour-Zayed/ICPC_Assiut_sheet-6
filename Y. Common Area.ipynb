{
 "cells": [
  {
   "cell_type": "code",
   "execution_count": 1,
   "id": "e1f35677-8e34-416e-9978-300fd3504e54",
   "metadata": {},
   "outputs": [
    {
     "name": "stdin",
     "output_type": "stream",
     "text": [
      " 1\n",
      " 4\n",
      " 0 0 10 10\n",
      " -1 -1 2 2\n",
      " -10 0 2 100\n",
      " -10 -10 10 10\n"
     ]
    },
    {
     "name": "stdout",
     "output_type": "stream",
     "text": [
      "Case #1: 4\n"
     ]
    }
   ],
   "source": [
    "def find_common_area(test_cases):\n",
    "    results = []\n",
    "    for i in range(test_cases):\n",
    "        N = int(input().strip())\n",
    "        x_left = -float('inf')\n",
    "        y_bottom = -float('inf')\n",
    "        x_right = float('inf')\n",
    "        y_top = float('inf')\n",
    "\n",
    "        for _ in range(N):\n",
    "            x1, y1, x2, y2 = map(int, input().strip().split())\n",
    "            x_left = max(x_left, x1)\n",
    "            y_bottom = max(y_bottom, y1)\n",
    "            x_right = min(x_right, x2)\n",
    "            y_top = min(y_top, y2)\n",
    "\n",
    "        if x_left < x_right and y_bottom < y_top:\n",
    "            area = (x_right - x_left) * (y_top - y_bottom)\n",
    "        else:\n",
    "            area = 0\n",
    "\n",
    "        results.append(f\"Case #{i + 1}: {area}\")\n",
    "    \n",
    "    return results\n",
    "\n",
    "T = int(input().strip())\n",
    "results = find_common_area(T)\n",
    "\n",
    "for result in results:\n",
    "    print(result)\n"
   ]
  },
  {
   "cell_type": "code",
   "execution_count": null,
   "id": "1f7d964c-c884-4cab-97af-02a11464a32d",
   "metadata": {},
   "outputs": [],
   "source": []
  }
 ],
 "metadata": {
  "kernelspec": {
   "display_name": "Python 3 (ipykernel)",
   "language": "python",
   "name": "python3"
  },
  "language_info": {
   "codemirror_mode": {
    "name": "ipython",
    "version": 3
   },
   "file_extension": ".py",
   "mimetype": "text/x-python",
   "name": "python",
   "nbconvert_exporter": "python",
   "pygments_lexer": "ipython3",
   "version": "3.11.5"
  }
 },
 "nbformat": 4,
 "nbformat_minor": 5
}
