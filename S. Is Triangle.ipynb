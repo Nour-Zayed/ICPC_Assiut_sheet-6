{
 "cells": [
  {
   "cell_type": "code",
   "execution_count": 7,
   "id": "257814e5-d262-4e95-8783-310f4747d6da",
   "metadata": {},
   "outputs": [
    {
     "name": "stdin",
     "output_type": "stream",
     "text": [
      " 3 4 1\n"
     ]
    },
    {
     "name": "stdout",
     "output_type": "stream",
     "text": [
      "Invalid\n"
     ]
    }
   ],
   "source": [
    "import math\n",
    "a, b, c = map(int, input().split())\n",
    "\n",
    "if a + b > c and a + c > b and b + c > a:\n",
    "    s = (a + b + c) / 2\n",
    "\n",
    "    area = math.sqrt(s * (s - a) * (s - b) * (s - c))\n",
    "    print(\"Valid\")\n",
    "    print(f\"{area:.6f}\") \n",
    "\n",
    "\n",
    "else:\n",
    "    print(\"Invalid\")\n"
   ]
  },
  {
   "cell_type": "code",
   "execution_count": null,
   "id": "f1061f61-5d63-420b-9b68-36772c5bfe60",
   "metadata": {},
   "outputs": [],
   "source": []
  }
 ],
 "metadata": {
  "kernelspec": {
   "display_name": "Python 3 (ipykernel)",
   "language": "python",
   "name": "python3"
  },
  "language_info": {
   "codemirror_mode": {
    "name": "ipython",
    "version": 3
   },
   "file_extension": ".py",
   "mimetype": "text/x-python",
   "name": "python",
   "nbconvert_exporter": "python",
   "pygments_lexer": "ipython3",
   "version": "3.11.5"
  }
 },
 "nbformat": 4,
 "nbformat_minor": 5
}
